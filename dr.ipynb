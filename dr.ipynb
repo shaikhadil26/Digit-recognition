{
 "cells": [
  {
   "cell_type": "code",
   "execution_count": 124,
   "metadata": {},
   "outputs": [],
   "source": [
    "import numpy as np\n",
    "import pandas as pd\n",
    "import matplotlib.pyplot as plt"
   ]
  },
  {
   "cell_type": "code",
   "execution_count": 125,
   "metadata": {},
   "outputs": [
    {
     "data": {
      "text/html": [
       "<div>\n",
       "<style scoped>\n",
       "    .dataframe tbody tr th:only-of-type {\n",
       "        vertical-align: middle;\n",
       "    }\n",
       "\n",
       "    .dataframe tbody tr th {\n",
       "        vertical-align: top;\n",
       "    }\n",
       "\n",
       "    .dataframe thead th {\n",
       "        text-align: right;\n",
       "    }\n",
       "</style>\n",
       "<table border=\"1\" class=\"dataframe\">\n",
       "  <thead>\n",
       "    <tr style=\"text-align: right;\">\n",
       "      <th></th>\n",
       "      <th>label</th>\n",
       "      <th>pixel0</th>\n",
       "      <th>pixel1</th>\n",
       "      <th>pixel2</th>\n",
       "      <th>pixel3</th>\n",
       "      <th>pixel4</th>\n",
       "      <th>pixel5</th>\n",
       "      <th>pixel6</th>\n",
       "      <th>pixel7</th>\n",
       "      <th>pixel8</th>\n",
       "      <th>...</th>\n",
       "      <th>pixel774</th>\n",
       "      <th>pixel775</th>\n",
       "      <th>pixel776</th>\n",
       "      <th>pixel777</th>\n",
       "      <th>pixel778</th>\n",
       "      <th>pixel779</th>\n",
       "      <th>pixel780</th>\n",
       "      <th>pixel781</th>\n",
       "      <th>pixel782</th>\n",
       "      <th>pixel783</th>\n",
       "    </tr>\n",
       "  </thead>\n",
       "  <tbody>\n",
       "    <tr>\n",
       "      <th>0</th>\n",
       "      <td>1</td>\n",
       "      <td>0</td>\n",
       "      <td>0</td>\n",
       "      <td>0</td>\n",
       "      <td>0</td>\n",
       "      <td>0</td>\n",
       "      <td>0</td>\n",
       "      <td>0</td>\n",
       "      <td>0</td>\n",
       "      <td>0</td>\n",
       "      <td>...</td>\n",
       "      <td>0</td>\n",
       "      <td>0</td>\n",
       "      <td>0</td>\n",
       "      <td>0</td>\n",
       "      <td>0</td>\n",
       "      <td>0</td>\n",
       "      <td>0</td>\n",
       "      <td>0</td>\n",
       "      <td>0</td>\n",
       "      <td>0</td>\n",
       "    </tr>\n",
       "    <tr>\n",
       "      <th>1</th>\n",
       "      <td>0</td>\n",
       "      <td>0</td>\n",
       "      <td>0</td>\n",
       "      <td>0</td>\n",
       "      <td>0</td>\n",
       "      <td>0</td>\n",
       "      <td>0</td>\n",
       "      <td>0</td>\n",
       "      <td>0</td>\n",
       "      <td>0</td>\n",
       "      <td>...</td>\n",
       "      <td>0</td>\n",
       "      <td>0</td>\n",
       "      <td>0</td>\n",
       "      <td>0</td>\n",
       "      <td>0</td>\n",
       "      <td>0</td>\n",
       "      <td>0</td>\n",
       "      <td>0</td>\n",
       "      <td>0</td>\n",
       "      <td>0</td>\n",
       "    </tr>\n",
       "    <tr>\n",
       "      <th>2</th>\n",
       "      <td>1</td>\n",
       "      <td>0</td>\n",
       "      <td>0</td>\n",
       "      <td>0</td>\n",
       "      <td>0</td>\n",
       "      <td>0</td>\n",
       "      <td>0</td>\n",
       "      <td>0</td>\n",
       "      <td>0</td>\n",
       "      <td>0</td>\n",
       "      <td>...</td>\n",
       "      <td>0</td>\n",
       "      <td>0</td>\n",
       "      <td>0</td>\n",
       "      <td>0</td>\n",
       "      <td>0</td>\n",
       "      <td>0</td>\n",
       "      <td>0</td>\n",
       "      <td>0</td>\n",
       "      <td>0</td>\n",
       "      <td>0</td>\n",
       "    </tr>\n",
       "    <tr>\n",
       "      <th>3</th>\n",
       "      <td>4</td>\n",
       "      <td>0</td>\n",
       "      <td>0</td>\n",
       "      <td>0</td>\n",
       "      <td>0</td>\n",
       "      <td>0</td>\n",
       "      <td>0</td>\n",
       "      <td>0</td>\n",
       "      <td>0</td>\n",
       "      <td>0</td>\n",
       "      <td>...</td>\n",
       "      <td>0</td>\n",
       "      <td>0</td>\n",
       "      <td>0</td>\n",
       "      <td>0</td>\n",
       "      <td>0</td>\n",
       "      <td>0</td>\n",
       "      <td>0</td>\n",
       "      <td>0</td>\n",
       "      <td>0</td>\n",
       "      <td>0</td>\n",
       "    </tr>\n",
       "    <tr>\n",
       "      <th>4</th>\n",
       "      <td>0</td>\n",
       "      <td>0</td>\n",
       "      <td>0</td>\n",
       "      <td>0</td>\n",
       "      <td>0</td>\n",
       "      <td>0</td>\n",
       "      <td>0</td>\n",
       "      <td>0</td>\n",
       "      <td>0</td>\n",
       "      <td>0</td>\n",
       "      <td>...</td>\n",
       "      <td>0</td>\n",
       "      <td>0</td>\n",
       "      <td>0</td>\n",
       "      <td>0</td>\n",
       "      <td>0</td>\n",
       "      <td>0</td>\n",
       "      <td>0</td>\n",
       "      <td>0</td>\n",
       "      <td>0</td>\n",
       "      <td>0</td>\n",
       "    </tr>\n",
       "  </tbody>\n",
       "</table>\n",
       "<p>5 rows × 785 columns</p>\n",
       "</div>"
      ],
      "text/plain": [
       "   label  pixel0  pixel1  pixel2  pixel3  pixel4  pixel5  pixel6  pixel7  \\\n",
       "0      1       0       0       0       0       0       0       0       0   \n",
       "1      0       0       0       0       0       0       0       0       0   \n",
       "2      1       0       0       0       0       0       0       0       0   \n",
       "3      4       0       0       0       0       0       0       0       0   \n",
       "4      0       0       0       0       0       0       0       0       0   \n",
       "\n",
       "   pixel8  ...  pixel774  pixel775  pixel776  pixel777  pixel778  pixel779  \\\n",
       "0       0  ...         0         0         0         0         0         0   \n",
       "1       0  ...         0         0         0         0         0         0   \n",
       "2       0  ...         0         0         0         0         0         0   \n",
       "3       0  ...         0         0         0         0         0         0   \n",
       "4       0  ...         0         0         0         0         0         0   \n",
       "\n",
       "   pixel780  pixel781  pixel782  pixel783  \n",
       "0         0         0         0         0  \n",
       "1         0         0         0         0  \n",
       "2         0         0         0         0  \n",
       "3         0         0         0         0  \n",
       "4         0         0         0         0  \n",
       "\n",
       "[5 rows x 785 columns]"
      ]
     },
     "execution_count": 125,
     "metadata": {},
     "output_type": "execute_result"
    }
   ],
   "source": [
    "df = pd.read_csv(r'C:\\Users\\Adil\\Desktop\\nn\\dataset\\train.csv')\n",
    "df.head()"
   ]
  },
  {
   "cell_type": "code",
   "execution_count": 126,
   "metadata": {},
   "outputs": [],
   "source": [
    "from sklearn.model_selection import train_test_split\n",
    "\n",
    "data = np.array(df)\n",
    "x, y= data[:,1:], data[:,0]\n",
    "x_train, x_test, y_train, y_test = train_test_split(x, y, test_size=0.2, random_state= 42)\n",
    "x_train = x_train/255"
   ]
  },
  {
   "cell_type": "code",
   "execution_count": 127,
   "metadata": {},
   "outputs": [
    {
     "data": {
      "text/plain": [
       "(784, 33600)"
      ]
     },
     "execution_count": 127,
     "metadata": {},
     "output_type": "execute_result"
    }
   ],
   "source": [
    "x_train = x_train.T\n",
    "x_train.shape"
   ]
  },
  {
   "cell_type": "code",
   "execution_count": 128,
   "metadata": {},
   "outputs": [
    {
     "data": {
      "text/plain": [
       "(10, 33600)"
      ]
     },
     "execution_count": 128,
     "metadata": {},
     "output_type": "execute_result"
    }
   ],
   "source": [
    "y_train = np.array(pd.get_dummies(y_train)).T\n",
    "y_train.shape"
   ]
  },
  {
   "cell_type": "code",
   "execution_count": 129,
   "metadata": {},
   "outputs": [],
   "source": [
    "def relu(z):\n",
    "    return np.maximum(0,z)"
   ]
  },
  {
   "cell_type": "code",
   "execution_count": 130,
   "metadata": {},
   "outputs": [],
   "source": [
    "def sig(z):\n",
    "    return 1/(1+np.exp(-z))"
   ]
  },
  {
   "cell_type": "code",
   "execution_count": 131,
   "metadata": {},
   "outputs": [],
   "source": [
    "w1 = np.random.rand(10, 784)\n",
    "b1 = np.random.rand(10, 1)\n",
    "\n",
    "z1 = np.dot(w1, x_train) + b1\n",
    "a1 = relu(z1)"
   ]
  },
  {
   "cell_type": "code",
   "execution_count": 132,
   "metadata": {},
   "outputs": [
    {
     "data": {
      "text/plain": [
       "(10, 33600)"
      ]
     },
     "execution_count": 132,
     "metadata": {},
     "output_type": "execute_result"
    }
   ],
   "source": [
    "a1.shape"
   ]
  },
  {
   "cell_type": "code",
   "execution_count": 133,
   "metadata": {},
   "outputs": [],
   "source": [
    "w2 = np.random.rand(10, 10)\n",
    "b2 = np.random.rand(10, 1)\n",
    "\n",
    "z2 = np.dot(w2, a1) + b2\n",
    "a2 = sig(z2)"
   ]
  },
  {
   "cell_type": "code",
   "execution_count": 134,
   "metadata": {},
   "outputs": [
    {
     "data": {
      "text/plain": [
       "0.9"
      ]
     },
     "execution_count": 134,
     "metadata": {},
     "output_type": "execute_result"
    }
   ],
   "source": [
    "mse_test_err = np.mean(np.square((y_train-a2)))\n",
    "mse_test_err"
   ]
  },
  {
   "cell_type": "code",
   "execution_count": 135,
   "metadata": {},
   "outputs": [],
   "source": [
    "def deriv_ReLu(Z):\n",
    "    return Z>0"
   ]
  },
  {
   "cell_type": "code",
   "execution_count": 136,
   "metadata": {},
   "outputs": [],
   "source": [
    "da2 = a2 - y_train\n",
    "da1 = np.dot(w2.T, da2) * (a1*(1-a1))\n",
    "\n",
    "da2 = np.dot(da2, a1.T)\n",
    "da1 = np.dot(da1, x_train.T)"
   ]
  },
  {
   "cell_type": "code",
   "execution_count": 137,
   "metadata": {},
   "outputs": [],
   "source": [
    "lr = 0.05\n",
    "w1 = w1-(lr*da1)\n",
    "w2 = w2-(lr*da2)"
   ]
  },
  {
   "cell_type": "code",
   "execution_count": 138,
   "metadata": {},
   "outputs": [
    {
     "name": "stdout",
     "output_type": "stream",
     "text": [
      "Error for itertion0: 0.27016188272830427\n",
      "Error for itertion100: 0.0638147118551772\n",
      "Error for itertion200: 0.04824162187044291\n",
      "Error for itertion300: 0.0414059171976019\n",
      "Error for itertion400: 0.03763948357255963\n",
      "Error for itertion500: 0.03506217167438814\n",
      "Error for itertion600: 0.03306183353937401\n",
      "Error for itertion700: 0.03142082779302921\n",
      "Error for itertion800: 0.030031743036960344\n",
      "Error for itertion900: 0.02883076995791563\n"
     ]
    }
   ],
   "source": [
    "W1 = np.random.rand(10, 784) - 0.5\n",
    "B1 = np.random.rand(10, 1)  - 0.5\n",
    "\n",
    "W2 = np.random.rand(10, 10) - 0.5\n",
    "B2 = np.random.rand(10, 1) - 0.5\n",
    "lr = 0.05\n",
    "\n",
    "for i in range(1000):\n",
    "    Z1 = np.dot(W1, x_train) + B1\n",
    "    A1 = relu(Z1)\n",
    "    \n",
    "    Z2 = np.dot(W2, A1) + B2\n",
    "    A2 = sig(Z2)\n",
    "\n",
    "    if i%100 == 0:\n",
    "        mse_test_err = np.mean(np.square((y_train-A2)))\n",
    "        print(f'Error for itertion{i}: {mse_test_err}')\n",
    "\n",
    "    DA2 = A2 - y_train\n",
    "    DA1 = np.dot(W2.T, DA2) * (A1>0)\n",
    "\n",
    "    db2 = 1/33600 * np.sum(DA2, axis=1, keepdims=True)\n",
    "    DW2 = 1/33600 * np.dot(DA2, A1.T)\n",
    "\n",
    "    db1 = 1/33600 * np.sum(DA1, axis=1, keepdims=True)\n",
    "    DW1 = 1/33600 * np.dot(DA1, x_train.T)\n",
    "    \n",
    "    W1 = W1 - (lr*DW1)\n",
    "    B1 = B1 - (lr*db1)\n",
    "    W2 = W2 - (lr*DW2)\n",
    "    B2 = B2 - (lr*db2)\n"
   ]
  },
  {
   "cell_type": "code",
   "execution_count": 139,
   "metadata": {},
   "outputs": [],
   "source": [
    "def softmax(Z):\n",
    "    A = np.exp(Z) / sum(np.exp(Z))\n",
    "    return A"
   ]
  },
  {
   "cell_type": "code",
   "execution_count": 140,
   "metadata": {},
   "outputs": [
    {
     "name": "stdout",
     "output_type": "stream",
     "text": [
      "Error for itertion0: 0.10965899488245905\n",
      "Error for itertion100: 0.07426825628952369\n",
      "Error for itertion200: 0.0563978614522282\n",
      "Error for itertion300: 0.0456378472781493\n",
      "Error for itertion400: 0.03877828624286037\n",
      "Error for itertion500: 0.03443161338250898\n",
      "Error for itertion600: 0.031270658102804806\n",
      "Error for itertion700: 0.02879892654125835\n",
      "Error for itertion800: 0.026857266696542974\n",
      "Error for itertion900: 0.02529007663423056\n"
     ]
    }
   ],
   "source": [
    "W1 = np.random.rand(10, 784) - 0.5\n",
    "B1 = np.random.rand(10, 1) - 0.5\n",
    "\n",
    "W2 = np.random.rand(10, 10) - 0.5\n",
    "B2 = np.random.rand(10, 1) - 0.5\n",
    "lr = 0.05\n",
    "\n",
    "for i in range(1000):\n",
    "    Z1 = np.dot(W1, x_train) + B1\n",
    "    A1 = relu(Z1)\n",
    "    \n",
    "    Z2 = np.dot(W2, A1) + B2\n",
    "    # print(Z2)\n",
    "    A2 = softmax(Z2)\n",
    "\n",
    "    if i%100 == 0:\n",
    "        mse_test_err = np.mean(np.square((y_train-A2)))\n",
    "        print(f'Error for itertion{i}: {mse_test_err}')\n",
    "\n",
    "    DA2 = A2 - y_train\n",
    "    DA1 = np.dot(W2.T, DA2) * (A1>0)\n",
    "\n",
    "    db2 = 1/33600 * np.sum(DA2, axis=1, keepdims=True)\n",
    "    DW2 = 1/33600 * np.dot(DA2, A1.T)\n",
    "\n",
    "    db1 = 1/33600 * np.sum(DA1, axis=1, keepdims=True)\n",
    "    DW1 = 1/33600 * np.dot(DA1, x_train.T)\n",
    "    \n",
    "    W1 = W1 - (lr*DW1)\n",
    "    B1 = B1 - (lr*db1)\n",
    "    W2 = W2 - (lr*DW2)\n",
    "    B2 = B2 - (lr*db2)\n"
   ]
  },
  {
   "cell_type": "code",
   "execution_count": null,
   "metadata": {},
   "outputs": [],
   "source": []
  }
 ],
 "metadata": {
  "kernelspec": {
   "display_name": "Python 3",
   "language": "python",
   "name": "python3"
  },
  "language_info": {
   "codemirror_mode": {
    "name": "ipython",
    "version": 3
   },
   "file_extension": ".py",
   "mimetype": "text/x-python",
   "name": "python",
   "nbconvert_exporter": "python",
   "pygments_lexer": "ipython3",
   "version": "3.10.5"
  },
  "orig_nbformat": 4
 },
 "nbformat": 4,
 "nbformat_minor": 2
}
